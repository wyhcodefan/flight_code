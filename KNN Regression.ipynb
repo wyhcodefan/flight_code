{
 "cells": [
  {
   "cell_type": "code",
   "execution_count": 1,
   "metadata": {},
   "outputs": [],
   "source": [
    "#数据导入与训练&测试集构建\n",
    "import numpy as np  \n",
    "import pandas as pd\n"
   ]
  },
  {
   "cell_type": "code",
   "execution_count": 2,
   "metadata": {},
   "outputs": [],
   "source": [
    "train_data = pd.read_csv('train_data.csv')\n",
    "test_data = pd.read_csv('test_data.csv')"
   ]
  },
  {
   "cell_type": "code",
   "execution_count": 3,
   "metadata": {},
   "outputs": [],
   "source": [
    "x_train = train_data[['remain_day', 'valid_price', 'ticket_year', 'ticket_month',\\\n",
    "       'ticket_day', 'ticket_weekday', 'flight_year', 'flight_month',\\\n",
    "       'flight_day', 'flight_weekday', 'remain_day_interval',\\\n",
    "       'ave_price', 'ave_valid_price', 'ave_price_monday']]\n",
    "y_train = train_data.lowest_price\n",
    "\n",
    "x_test = test_data[['remain_day', 'valid_price', 'ticket_year', 'ticket_month',\\\n",
    "       'ticket_day', 'ticket_weekday', 'flight_year', 'flight_month',\\\n",
    "       'flight_day', 'flight_weekday', 'remain_day_interval',\\\n",
    "       'ave_price', 'ave_valid_price', 'ave_price_monday']]\n",
    "y_test = test_data.lowest_price\n"
   ]
  },
  {
   "cell_type": "code",
   "execution_count": 4,
   "metadata": {
    "scrolled": true
   },
   "outputs": [
    {
     "name": "stdout",
     "output_type": "stream",
     "text": [
      "R-squared value of uniform-weighted KNeighborRegrssion: 0.6056342942369466\n",
      "R-squared value of distance-weighted KNeighborRegrssion: 0.6059729978840291\n"
     ]
    }
   ],
   "source": [
    "#从sklearn.neighbors导入KNeighborRegressor\n",
    "from sklearn.neighbors import KNeighborsRegressor\n",
    " \n",
    "#采用平均回归的方式配置K近邻回归器\n",
    "uni_knr = KNeighborsRegressor(weights='uniform')\n",
    "uni_knr.fit(x_train,y_train)\n",
    "uni_knr_y_predict = uni_knr.predict(x_test)\n",
    " \n",
    "#采用距离加权回归的方式配置K近邻回归器\n",
    "dis_knr = KNeighborsRegressor(weights='distance')\n",
    "dis_knr.fit(x_train,y_train)\n",
    "dis_knr_y_predict = dis_knr.predict(x_test)\n",
    " \n",
    "#对两种配置方式进行测评\n",
    "print('R-squared value of uniform-weighted KNeighborRegrssion:',uni_knr.score(x_test,y_test))\n",
    "print('R-squared value of distance-weighted KNeighborRegrssion:',dis_knr.score(x_test,y_test))\n"
   ]
  },
  {
   "cell_type": "code",
   "execution_count": null,
   "metadata": {},
   "outputs": [],
   "source": []
  }
 ],
 "metadata": {
  "kernelspec": {
   "display_name": "Python 3",
   "language": "python",
   "name": "python3"
  },
  "language_info": {
   "codemirror_mode": {
    "name": "ipython",
    "version": 3
   },
   "file_extension": ".py",
   "mimetype": "text/x-python",
   "name": "python",
   "nbconvert_exporter": "python",
   "pygments_lexer": "ipython3",
   "version": "3.7.0"
  }
 },
 "nbformat": 4,
 "nbformat_minor": 2
}
