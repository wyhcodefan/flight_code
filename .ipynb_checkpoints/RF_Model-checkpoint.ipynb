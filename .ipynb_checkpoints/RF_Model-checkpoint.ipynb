{
 "cells": [
  {
   "cell_type": "code",
   "execution_count": 1,
   "metadata": {},
   "outputs": [
    {
     "name": "stderr",
     "output_type": "stream",
     "text": [
      "D:\\Software Install\\Anaconda Install\\lib\\site-packages\\sklearn\\ensemble\\weight_boosting.py:29: DeprecationWarning: numpy.core.umath_tests is an internal NumPy module and should not be imported. It will be removed in a future NumPy release.\n",
      "  from numpy.core.umath_tests import inner1d\n"
     ]
    }
   ],
   "source": [
    "from sklearn.tree import DecisionTreeRegressor  \n",
    "import numpy as np  \n",
    "import pandas as pd\n",
    "from sklearn.ensemble import RandomForestRegressor, ExtraTreesRegressor, GradientBoostingRegressor\n",
    "from sklearn.metrics import r2_score, mean_squared_error, mean_absolute_error\n"
   ]
  },
  {
   "cell_type": "code",
   "execution_count": 2,
   "metadata": {},
   "outputs": [
    {
     "data": {
      "text/plain": [
       "Index(['ticket_date', 'flight_date', 'remain_day', 'valid_price',\n",
       "       'ticket_year', 'ticket_month', 'ticket_day', 'ticket_weekday',\n",
       "       'flight_year', 'flight_month', 'flight_day', 'flight_weekday',\n",
       "       'remain_day_interval', 'lowest_price', 'ave_price', 'ave_valid_price',\n",
       "       'ave_price_monday', 'ave_price_lastmon'],\n",
       "      dtype='object')"
      ]
     },
     "execution_count": 2,
     "metadata": {},
     "output_type": "execute_result"
    }
   ],
   "source": [
    "train_data = pd.read_csv('train_data.csv')\n",
    "test_data = pd.read_csv('test_data.csv')\n",
    "train_data.columns"
   ]
  },
  {
   "cell_type": "code",
   "execution_count": 15,
   "metadata": {},
   "outputs": [],
   "source": [
    "x_train = train_data[['remain_day', 'valid_price', 'ticket_year', 'ticket_month',\\\n",
    "       'ticket_day', 'ticket_weekday', 'flight_year', 'flight_month',\\\n",
    "       'flight_day', 'flight_weekday', 'remain_day_interval',\\\n",
    "       'ave_price', 'ave_valid_price', 'ave_price_monday',\\\n",
    "       'ave_price_lastmon']]\n",
    "y_train = train_data.lowest_price\n",
    "\n",
    "x_test = test_data[['remain_day', 'valid_price', 'ticket_year', 'ticket_month',\\\n",
    "       'ticket_day', 'ticket_weekday', 'flight_year', 'flight_month',\\\n",
    "       'flight_day', 'flight_weekday', 'remain_day_interval',\\\n",
    "       'ave_price', 'ave_valid_price', 'ave_lowest_price',\\\n",
    "       'ave_lowest_price_lastmonth']]\n",
    "y_test = test_data.lowest_price\n"
   ]
  },
  {
   "cell_type": "code",
   "execution_count": 16,
   "metadata": {},
   "outputs": [],
   "source": [
    "# 随机森林回归\n",
    "rfr = RandomForestRegressor()\n",
    "# 训练\n",
    "rfr.fit(x_train, y_train)\n",
    "# 预测 保存预测结果\n",
    "rfr_y_predict = rfr.predict(x_test)"
   ]
  },
  {
   "cell_type": "code",
   "execution_count": 19,
   "metadata": {},
   "outputs": [
    {
     "name": "stdout",
     "output_type": "stream",
     "text": [
      "随机森林回归的默认评估值为： 0.9909707216104559\n",
      "随机森林回归的R_squared值为： 0.9909707216104559\n",
      "随机森林回归的均方误差为： 717.3166186684737\n",
      "随机森林回归的平均绝对误差为： 5.911231577164154\n"
     ]
    }
   ],
   "source": [
    "#随机森林回归模型评估\n",
    "print('随机森林回归的默认评估值为：', rfr.score(x_test, y_test))\n",
    "print('随机森林回归的R_squared值为：', r2_score(y_test, rfr_y_predict))\n",
    "print('随机森林回归的均方误差为：', mean_squared_error(y_test, rfr_y_predict))\n",
    "print('随机森林回归的平均绝对误差为：', mean_absolute_error(y_test,rfr_y_predict))\n",
    "  \n"
   ]
  },
  {
   "cell_type": "code",
   "execution_count": 23,
   "metadata": {},
   "outputs": [
    {
     "name": "stdout",
     "output_type": "stream",
     "text": [
      "[1230.  700.  900. ...  660.  760.  539.]\n",
      "<class 'numpy.ndarray'>\n"
     ]
    }
   ],
   "source": [
    "print(rfr_y_predict)\n",
    "print(type(rfr_y_predict))\n",
    "df_Predict = pd.DataFrame(rfr_y_predict)\n",
    "df_Predict.to_csv('predict_result.csv',index = False)"
   ]
  },
  {
   "cell_type": "code",
   "execution_count": 24,
   "metadata": {},
   "outputs": [
    {
     "name": "stdout",
     "output_type": "stream",
     "text": [
      "0       1230\n",
      "1        700\n",
      "2        900\n",
      "3       1360\n",
      "4        760\n",
      "5        910\n",
      "6        820\n",
      "7        530\n",
      "8        480\n",
      "9        560\n",
      "10      1230\n",
      "11       560\n",
      "12       740\n",
      "13      1240\n",
      "14       430\n",
      "15       530\n",
      "16       780\n",
      "17       540\n",
      "18       550\n",
      "19       730\n",
      "20       900\n",
      "21      1230\n",
      "22       680\n",
      "23      1240\n",
      "24      1030\n",
      "25       870\n",
      "26       730\n",
      "27       760\n",
      "28       430\n",
      "29       530\n",
      "        ... \n",
      "5873     850\n",
      "5874     700\n",
      "5875     430\n",
      "5876     590\n",
      "5877     550\n",
      "5878     700\n",
      "5879     730\n",
      "5880    1060\n",
      "5881    1240\n",
      "5882       0\n",
      "5883     430\n",
      "5884     530\n",
      "5885    1060\n",
      "5886     990\n",
      "5887     760\n",
      "5888    1360\n",
      "5889     430\n",
      "5890    1230\n",
      "5891     580\n",
      "5892     810\n",
      "5893     660\n",
      "5894     760\n",
      "5895    1230\n",
      "5896    1360\n",
      "5897    1230\n",
      "5898     810\n",
      "5899     820\n",
      "5900     660\n",
      "5901     760\n",
      "5902     530\n",
      "Name: lowest_price, Length: 5903, dtype: int64\n"
     ]
    }
   ],
   "source": [
    "print(y_test)\n",
    "y_test.to_csv('y_test_result.csv',index = False)"
   ]
  },
  {
   "cell_type": "code",
   "execution_count": null,
   "metadata": {},
   "outputs": [],
   "source": []
  }
 ],
 "metadata": {
  "kernelspec": {
   "display_name": "Python 3",
   "language": "python",
   "name": "python3"
  },
  "language_info": {
   "codemirror_mode": {
    "name": "ipython",
    "version": 3
   },
   "file_extension": ".py",
   "mimetype": "text/x-python",
   "name": "python",
   "nbconvert_exporter": "python",
   "pygments_lexer": "ipython3",
   "version": "3.7.0"
  }
 },
 "nbformat": 4,
 "nbformat_minor": 2
}
